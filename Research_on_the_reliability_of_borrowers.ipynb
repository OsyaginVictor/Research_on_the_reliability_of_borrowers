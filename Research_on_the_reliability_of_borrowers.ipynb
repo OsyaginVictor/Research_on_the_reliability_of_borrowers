{
  "cells": [
    {
      "cell_type": "markdown",
      "id": "dbb77aef",
      "metadata": {
        "deletable": false,
        "editable": false,
        "id": "dbb77aef"
      },
      "source": [
        "# Исследование надежности заемщиков\n"
      ]
    },
    {
      "cell_type": "markdown",
      "id": "fbe141f3",
      "metadata": {
        "deletable": false,
        "editable": false,
        "id": "fbe141f3"
      },
      "source": [
        "Во второй части проекта вы выполните шаги 3 и 4. Их вручную проверит ревьюер.\n",
        "Чтобы вам не пришлось писать код заново для шагов 1 и 2, мы добавили авторские решения в ячейки с кодом.\n",
        "\n"
      ]
    },
    {
      "cell_type": "markdown",
      "id": "3deaa8cb",
      "metadata": {
        "deletable": false,
        "editable": false,
        "id": "3deaa8cb"
      },
      "source": [
        "## Откройте таблицу и изучите общую информацию о данных"
      ]
    },
    {
      "cell_type": "markdown",
      "id": "8c05ba54",
      "metadata": {
        "deletable": false,
        "editable": false,
        "id": "8c05ba54"
      },
      "source": [
        "**Задание 1. Импортируйте библиотеку pandas. Считайте данные из csv-файла в датафрейм и сохраните в переменную `data`. Путь к файлу:**\n",
        "\n",
        "`/datasets/data.csv`"
      ]
    },
    {
      "cell_type": "code",
      "execution_count": null,
      "id": "0056bc71",
      "metadata": {
        "deletable": false,
        "id": "0056bc71"
      },
      "outputs": [],
      "source": [
        "import pandas as pd\n",
        "\n",
        "try:\n",
        "    data = pd.read_csv('/datasets/data.csv')\n",
        "except:\n",
        "    data = pd.read_csv('https://code.s3.yandex.net/datasets/data.csv')"
      ]
    },
    {
      "cell_type": "markdown",
      "id": "f54ac90d",
      "metadata": {
        "deletable": false,
        "editable": false,
        "id": "f54ac90d"
      },
      "source": [
        "**Задание 2. Выведите первые 20 строчек датафрейма `data` на экран.**"
      ]
    },
    {
      "cell_type": "code",
      "execution_count": null,
      "id": "b4bb8e75",
      "metadata": {
        "deletable": false,
        "id": "b4bb8e75",
        "outputId": "1a8f3ef2-d323-4ec2-ddf7-89670b5944c4"
      },
      "outputs": [
        {
          "data": {
            "text/html": [
              "<div>\n",
              "<style scoped>\n",
              "    .dataframe tbody tr th:only-of-type {\n",
              "        vertical-align: middle;\n",
              "    }\n",
              "\n",
              "    .dataframe tbody tr th {\n",
              "        vertical-align: top;\n",
              "    }\n",
              "\n",
              "    .dataframe thead th {\n",
              "        text-align: right;\n",
              "    }\n",
              "</style>\n",
              "<table border=\"1\" class=\"dataframe\">\n",
              "  <thead>\n",
              "    <tr style=\"text-align: right;\">\n",
              "      <th></th>\n",
              "      <th>children</th>\n",
              "      <th>days_employed</th>\n",
              "      <th>dob_years</th>\n",
              "      <th>education</th>\n",
              "      <th>education_id</th>\n",
              "      <th>family_status</th>\n",
              "      <th>family_status_id</th>\n",
              "      <th>gender</th>\n",
              "      <th>income_type</th>\n",
              "      <th>debt</th>\n",
              "      <th>total_income</th>\n",
              "      <th>purpose</th>\n",
              "    </tr>\n",
              "  </thead>\n",
              "  <tbody>\n",
              "    <tr>\n",
              "      <th>0</th>\n",
              "      <td>1</td>\n",
              "      <td>-8437.673028</td>\n",
              "      <td>42</td>\n",
              "      <td>высшее</td>\n",
              "      <td>0</td>\n",
              "      <td>женат / замужем</td>\n",
              "      <td>0</td>\n",
              "      <td>F</td>\n",
              "      <td>сотрудник</td>\n",
              "      <td>0</td>\n",
              "      <td>253875.639453</td>\n",
              "      <td>покупка жилья</td>\n",
              "    </tr>\n",
              "    <tr>\n",
              "      <th>1</th>\n",
              "      <td>1</td>\n",
              "      <td>-4024.803754</td>\n",
              "      <td>36</td>\n",
              "      <td>среднее</td>\n",
              "      <td>1</td>\n",
              "      <td>женат / замужем</td>\n",
              "      <td>0</td>\n",
              "      <td>F</td>\n",
              "      <td>сотрудник</td>\n",
              "      <td>0</td>\n",
              "      <td>112080.014102</td>\n",
              "      <td>приобретение автомобиля</td>\n",
              "    </tr>\n",
              "    <tr>\n",
              "      <th>2</th>\n",
              "      <td>0</td>\n",
              "      <td>-5623.422610</td>\n",
              "      <td>33</td>\n",
              "      <td>Среднее</td>\n",
              "      <td>1</td>\n",
              "      <td>женат / замужем</td>\n",
              "      <td>0</td>\n",
              "      <td>M</td>\n",
              "      <td>сотрудник</td>\n",
              "      <td>0</td>\n",
              "      <td>145885.952297</td>\n",
              "      <td>покупка жилья</td>\n",
              "    </tr>\n",
              "    <tr>\n",
              "      <th>3</th>\n",
              "      <td>3</td>\n",
              "      <td>-4124.747207</td>\n",
              "      <td>32</td>\n",
              "      <td>среднее</td>\n",
              "      <td>1</td>\n",
              "      <td>женат / замужем</td>\n",
              "      <td>0</td>\n",
              "      <td>M</td>\n",
              "      <td>сотрудник</td>\n",
              "      <td>0</td>\n",
              "      <td>267628.550329</td>\n",
              "      <td>дополнительное образование</td>\n",
              "    </tr>\n",
              "    <tr>\n",
              "      <th>4</th>\n",
              "      <td>0</td>\n",
              "      <td>340266.072047</td>\n",
              "      <td>53</td>\n",
              "      <td>среднее</td>\n",
              "      <td>1</td>\n",
              "      <td>гражданский брак</td>\n",
              "      <td>1</td>\n",
              "      <td>F</td>\n",
              "      <td>пенсионер</td>\n",
              "      <td>0</td>\n",
              "      <td>158616.077870</td>\n",
              "      <td>сыграть свадьбу</td>\n",
              "    </tr>\n",
              "    <tr>\n",
              "      <th>5</th>\n",
              "      <td>0</td>\n",
              "      <td>-926.185831</td>\n",
              "      <td>27</td>\n",
              "      <td>высшее</td>\n",
              "      <td>0</td>\n",
              "      <td>гражданский брак</td>\n",
              "      <td>1</td>\n",
              "      <td>M</td>\n",
              "      <td>компаньон</td>\n",
              "      <td>0</td>\n",
              "      <td>255763.565419</td>\n",
              "      <td>покупка жилья</td>\n",
              "    </tr>\n",
              "    <tr>\n",
              "      <th>6</th>\n",
              "      <td>0</td>\n",
              "      <td>-2879.202052</td>\n",
              "      <td>43</td>\n",
              "      <td>высшее</td>\n",
              "      <td>0</td>\n",
              "      <td>женат / замужем</td>\n",
              "      <td>0</td>\n",
              "      <td>F</td>\n",
              "      <td>компаньон</td>\n",
              "      <td>0</td>\n",
              "      <td>240525.971920</td>\n",
              "      <td>операции с жильем</td>\n",
              "    </tr>\n",
              "    <tr>\n",
              "      <th>7</th>\n",
              "      <td>0</td>\n",
              "      <td>-152.779569</td>\n",
              "      <td>50</td>\n",
              "      <td>СРЕДНЕЕ</td>\n",
              "      <td>1</td>\n",
              "      <td>женат / замужем</td>\n",
              "      <td>0</td>\n",
              "      <td>M</td>\n",
              "      <td>сотрудник</td>\n",
              "      <td>0</td>\n",
              "      <td>135823.934197</td>\n",
              "      <td>образование</td>\n",
              "    </tr>\n",
              "    <tr>\n",
              "      <th>8</th>\n",
              "      <td>2</td>\n",
              "      <td>-6929.865299</td>\n",
              "      <td>35</td>\n",
              "      <td>ВЫСШЕЕ</td>\n",
              "      <td>0</td>\n",
              "      <td>гражданский брак</td>\n",
              "      <td>1</td>\n",
              "      <td>F</td>\n",
              "      <td>сотрудник</td>\n",
              "      <td>0</td>\n",
              "      <td>95856.832424</td>\n",
              "      <td>на проведение свадьбы</td>\n",
              "    </tr>\n",
              "    <tr>\n",
              "      <th>9</th>\n",
              "      <td>0</td>\n",
              "      <td>-2188.756445</td>\n",
              "      <td>41</td>\n",
              "      <td>среднее</td>\n",
              "      <td>1</td>\n",
              "      <td>женат / замужем</td>\n",
              "      <td>0</td>\n",
              "      <td>M</td>\n",
              "      <td>сотрудник</td>\n",
              "      <td>0</td>\n",
              "      <td>144425.938277</td>\n",
              "      <td>покупка жилья для семьи</td>\n",
              "    </tr>\n",
              "    <tr>\n",
              "      <th>10</th>\n",
              "      <td>2</td>\n",
              "      <td>-4171.483647</td>\n",
              "      <td>36</td>\n",
              "      <td>высшее</td>\n",
              "      <td>0</td>\n",
              "      <td>женат / замужем</td>\n",
              "      <td>0</td>\n",
              "      <td>M</td>\n",
              "      <td>компаньон</td>\n",
              "      <td>0</td>\n",
              "      <td>113943.491460</td>\n",
              "      <td>покупка недвижимости</td>\n",
              "    </tr>\n",
              "    <tr>\n",
              "      <th>11</th>\n",
              "      <td>0</td>\n",
              "      <td>-792.701887</td>\n",
              "      <td>40</td>\n",
              "      <td>среднее</td>\n",
              "      <td>1</td>\n",
              "      <td>женат / замужем</td>\n",
              "      <td>0</td>\n",
              "      <td>F</td>\n",
              "      <td>сотрудник</td>\n",
              "      <td>0</td>\n",
              "      <td>77069.234271</td>\n",
              "      <td>покупка коммерческой недвижимости</td>\n",
              "    </tr>\n",
              "    <tr>\n",
              "      <th>12</th>\n",
              "      <td>0</td>\n",
              "      <td>NaN</td>\n",
              "      <td>65</td>\n",
              "      <td>среднее</td>\n",
              "      <td>1</td>\n",
              "      <td>гражданский брак</td>\n",
              "      <td>1</td>\n",
              "      <td>M</td>\n",
              "      <td>пенсионер</td>\n",
              "      <td>0</td>\n",
              "      <td>NaN</td>\n",
              "      <td>сыграть свадьбу</td>\n",
              "    </tr>\n",
              "    <tr>\n",
              "      <th>13</th>\n",
              "      <td>0</td>\n",
              "      <td>-1846.641941</td>\n",
              "      <td>54</td>\n",
              "      <td>неоконченное высшее</td>\n",
              "      <td>2</td>\n",
              "      <td>женат / замужем</td>\n",
              "      <td>0</td>\n",
              "      <td>F</td>\n",
              "      <td>сотрудник</td>\n",
              "      <td>0</td>\n",
              "      <td>130458.228857</td>\n",
              "      <td>приобретение автомобиля</td>\n",
              "    </tr>\n",
              "    <tr>\n",
              "      <th>14</th>\n",
              "      <td>0</td>\n",
              "      <td>-1844.956182</td>\n",
              "      <td>56</td>\n",
              "      <td>высшее</td>\n",
              "      <td>0</td>\n",
              "      <td>гражданский брак</td>\n",
              "      <td>1</td>\n",
              "      <td>F</td>\n",
              "      <td>компаньон</td>\n",
              "      <td>1</td>\n",
              "      <td>165127.911772</td>\n",
              "      <td>покупка жилой недвижимости</td>\n",
              "    </tr>\n",
              "    <tr>\n",
              "      <th>15</th>\n",
              "      <td>1</td>\n",
              "      <td>-972.364419</td>\n",
              "      <td>26</td>\n",
              "      <td>среднее</td>\n",
              "      <td>1</td>\n",
              "      <td>женат / замужем</td>\n",
              "      <td>0</td>\n",
              "      <td>F</td>\n",
              "      <td>сотрудник</td>\n",
              "      <td>0</td>\n",
              "      <td>116820.904450</td>\n",
              "      <td>строительство собственной недвижимости</td>\n",
              "    </tr>\n",
              "    <tr>\n",
              "      <th>16</th>\n",
              "      <td>0</td>\n",
              "      <td>-1719.934226</td>\n",
              "      <td>35</td>\n",
              "      <td>среднее</td>\n",
              "      <td>1</td>\n",
              "      <td>женат / замужем</td>\n",
              "      <td>0</td>\n",
              "      <td>F</td>\n",
              "      <td>сотрудник</td>\n",
              "      <td>0</td>\n",
              "      <td>289202.704229</td>\n",
              "      <td>недвижимость</td>\n",
              "    </tr>\n",
              "    <tr>\n",
              "      <th>17</th>\n",
              "      <td>0</td>\n",
              "      <td>-2369.999720</td>\n",
              "      <td>33</td>\n",
              "      <td>высшее</td>\n",
              "      <td>0</td>\n",
              "      <td>гражданский брак</td>\n",
              "      <td>1</td>\n",
              "      <td>M</td>\n",
              "      <td>сотрудник</td>\n",
              "      <td>0</td>\n",
              "      <td>90410.586745</td>\n",
              "      <td>строительство недвижимости</td>\n",
              "    </tr>\n",
              "    <tr>\n",
              "      <th>18</th>\n",
              "      <td>0</td>\n",
              "      <td>400281.136913</td>\n",
              "      <td>53</td>\n",
              "      <td>среднее</td>\n",
              "      <td>1</td>\n",
              "      <td>вдовец / вдова</td>\n",
              "      <td>2</td>\n",
              "      <td>F</td>\n",
              "      <td>пенсионер</td>\n",
              "      <td>0</td>\n",
              "      <td>56823.777243</td>\n",
              "      <td>на покупку подержанного автомобиля</td>\n",
              "    </tr>\n",
              "    <tr>\n",
              "      <th>19</th>\n",
              "      <td>0</td>\n",
              "      <td>-10038.818549</td>\n",
              "      <td>48</td>\n",
              "      <td>СРЕДНЕЕ</td>\n",
              "      <td>1</td>\n",
              "      <td>в разводе</td>\n",
              "      <td>3</td>\n",
              "      <td>F</td>\n",
              "      <td>сотрудник</td>\n",
              "      <td>0</td>\n",
              "      <td>242831.107982</td>\n",
              "      <td>на покупку своего автомобиля</td>\n",
              "    </tr>\n",
              "  </tbody>\n",
              "</table>\n",
              "</div>"
            ],
            "text/plain": [
              "    children  days_employed  dob_years            education  education_id  \\\n",
              "0          1   -8437.673028         42               высшее             0   \n",
              "1          1   -4024.803754         36              среднее             1   \n",
              "2          0   -5623.422610         33              Среднее             1   \n",
              "3          3   -4124.747207         32              среднее             1   \n",
              "4          0  340266.072047         53              среднее             1   \n",
              "5          0    -926.185831         27               высшее             0   \n",
              "6          0   -2879.202052         43               высшее             0   \n",
              "7          0    -152.779569         50              СРЕДНЕЕ             1   \n",
              "8          2   -6929.865299         35               ВЫСШЕЕ             0   \n",
              "9          0   -2188.756445         41              среднее             1   \n",
              "10         2   -4171.483647         36               высшее             0   \n",
              "11         0    -792.701887         40              среднее             1   \n",
              "12         0            NaN         65              среднее             1   \n",
              "13         0   -1846.641941         54  неоконченное высшее             2   \n",
              "14         0   -1844.956182         56               высшее             0   \n",
              "15         1    -972.364419         26              среднее             1   \n",
              "16         0   -1719.934226         35              среднее             1   \n",
              "17         0   -2369.999720         33               высшее             0   \n",
              "18         0  400281.136913         53              среднее             1   \n",
              "19         0  -10038.818549         48              СРЕДНЕЕ             1   \n",
              "\n",
              "       family_status  family_status_id gender income_type  debt  \\\n",
              "0    женат / замужем                 0      F   сотрудник     0   \n",
              "1    женат / замужем                 0      F   сотрудник     0   \n",
              "2    женат / замужем                 0      M   сотрудник     0   \n",
              "3    женат / замужем                 0      M   сотрудник     0   \n",
              "4   гражданский брак                 1      F   пенсионер     0   \n",
              "5   гражданский брак                 1      M   компаньон     0   \n",
              "6    женат / замужем                 0      F   компаньон     0   \n",
              "7    женат / замужем                 0      M   сотрудник     0   \n",
              "8   гражданский брак                 1      F   сотрудник     0   \n",
              "9    женат / замужем                 0      M   сотрудник     0   \n",
              "10   женат / замужем                 0      M   компаньон     0   \n",
              "11   женат / замужем                 0      F   сотрудник     0   \n",
              "12  гражданский брак                 1      M   пенсионер     0   \n",
              "13   женат / замужем                 0      F   сотрудник     0   \n",
              "14  гражданский брак                 1      F   компаньон     1   \n",
              "15   женат / замужем                 0      F   сотрудник     0   \n",
              "16   женат / замужем                 0      F   сотрудник     0   \n",
              "17  гражданский брак                 1      M   сотрудник     0   \n",
              "18    вдовец / вдова                 2      F   пенсионер     0   \n",
              "19         в разводе                 3      F   сотрудник     0   \n",
              "\n",
              "     total_income                                 purpose  \n",
              "0   253875.639453                           покупка жилья  \n",
              "1   112080.014102                 приобретение автомобиля  \n",
              "2   145885.952297                           покупка жилья  \n",
              "3   267628.550329              дополнительное образование  \n",
              "4   158616.077870                         сыграть свадьбу  \n",
              "5   255763.565419                           покупка жилья  \n",
              "6   240525.971920                       операции с жильем  \n",
              "7   135823.934197                             образование  \n",
              "8    95856.832424                   на проведение свадьбы  \n",
              "9   144425.938277                 покупка жилья для семьи  \n",
              "10  113943.491460                    покупка недвижимости  \n",
              "11   77069.234271       покупка коммерческой недвижимости  \n",
              "12            NaN                         сыграть свадьбу  \n",
              "13  130458.228857                 приобретение автомобиля  \n",
              "14  165127.911772              покупка жилой недвижимости  \n",
              "15  116820.904450  строительство собственной недвижимости  \n",
              "16  289202.704229                            недвижимость  \n",
              "17   90410.586745              строительство недвижимости  \n",
              "18   56823.777243      на покупку подержанного автомобиля  \n",
              "19  242831.107982            на покупку своего автомобиля  "
            ]
          },
          "execution_count": 2,
          "metadata": {},
          "output_type": "execute_result"
        }
      ],
      "source": [
        "data.head(20)"
      ]
    },
    {
      "cell_type": "markdown",
      "id": "72e3e10f",
      "metadata": {
        "deletable": false,
        "editable": false,
        "id": "72e3e10f"
      },
      "source": [
        "**Задание 3. Выведите основную информацию о датафрейме с помощью метода `info()`.**"
      ]
    },
    {
      "cell_type": "code",
      "execution_count": null,
      "id": "1111be23",
      "metadata": {
        "deletable": false,
        "id": "1111be23",
        "outputId": "15376089-8dad-46c9-b520-c05248d43158"
      },
      "outputs": [
        {
          "name": "stdout",
          "output_type": "stream",
          "text": [
            "<class 'pandas.core.frame.DataFrame'>\n",
            "RangeIndex: 21525 entries, 0 to 21524\n",
            "Data columns (total 12 columns):\n",
            " #   Column            Non-Null Count  Dtype  \n",
            "---  ------            --------------  -----  \n",
            " 0   children          21525 non-null  int64  \n",
            " 1   days_employed     19351 non-null  float64\n",
            " 2   dob_years         21525 non-null  int64  \n",
            " 3   education         21525 non-null  object \n",
            " 4   education_id      21525 non-null  int64  \n",
            " 5   family_status     21525 non-null  object \n",
            " 6   family_status_id  21525 non-null  int64  \n",
            " 7   gender            21525 non-null  object \n",
            " 8   income_type       21525 non-null  object \n",
            " 9   debt              21525 non-null  int64  \n",
            " 10  total_income      19351 non-null  float64\n",
            " 11  purpose           21525 non-null  object \n",
            "dtypes: float64(2), int64(5), object(5)\n",
            "memory usage: 2.0+ MB\n"
          ]
        }
      ],
      "source": [
        "data.info()"
      ]
    },
    {
      "cell_type": "markdown",
      "id": "8b8334b5",
      "metadata": {
        "deletable": false,
        "editable": false,
        "id": "8b8334b5"
      },
      "source": [
        "## Предобработка данных"
      ]
    },
    {
      "cell_type": "markdown",
      "id": "cb828dae",
      "metadata": {
        "deletable": false,
        "editable": false,
        "id": "cb828dae"
      },
      "source": [
        "### Удаление пропусков"
      ]
    },
    {
      "cell_type": "markdown",
      "id": "f64d8b5d",
      "metadata": {
        "deletable": false,
        "editable": false,
        "id": "f64d8b5d"
      },
      "source": [
        "**Задание 4. Выведите количество пропущенных значений для каждого столбца. Используйте комбинацию двух методов.**"
      ]
    },
    {
      "cell_type": "code",
      "execution_count": null,
      "id": "9df4650f",
      "metadata": {
        "deletable": false,
        "id": "9df4650f",
        "outputId": "81f4d817-781c-465c-ed15-91ce4446810d"
      },
      "outputs": [
        {
          "data": {
            "text/plain": [
              "children               0\n",
              "days_employed       2174\n",
              "dob_years              0\n",
              "education              0\n",
              "education_id           0\n",
              "family_status          0\n",
              "family_status_id       0\n",
              "gender                 0\n",
              "income_type            0\n",
              "debt                   0\n",
              "total_income        2174\n",
              "purpose                0\n",
              "dtype: int64"
            ]
          },
          "execution_count": 4,
          "metadata": {},
          "output_type": "execute_result"
        }
      ],
      "source": [
        "data.isna().sum()"
      ]
    },
    {
      "cell_type": "markdown",
      "id": "92f6e635",
      "metadata": {
        "deletable": false,
        "editable": false,
        "id": "92f6e635"
      },
      "source": [
        "**Задание 5. В двух столбцах есть пропущенные значения. Один из них — `days_employed`. Пропуски в этом столбце вы обработаете на следующем этапе. Другой столбец с пропущенными значениями — `total_income` — хранит данные о доходах. На сумму дохода сильнее всего влияет тип занятости, поэтому заполнить пропуски в этом столбце нужно медианным значением по каждому типу из столбца `income_type`. Например, у человека с типом занятости `сотрудник` пропуск в столбце `total_income` должен быть заполнен медианным доходом среди всех записей с тем же типом.**"
      ]
    },
    {
      "cell_type": "code",
      "execution_count": null,
      "id": "81235c78",
      "metadata": {
        "deletable": false,
        "id": "81235c78"
      },
      "outputs": [],
      "source": [
        "for t in data['income_type'].unique():\n",
        "    data.loc[(data['income_type'] == t) & (data['total_income'].isna()), 'total_income'] = \\\n",
        "    data.loc[(data['income_type'] == t), 'total_income'].median()"
      ]
    },
    {
      "cell_type": "markdown",
      "id": "c7e6f390",
      "metadata": {
        "deletable": false,
        "editable": false,
        "id": "c7e6f390"
      },
      "source": [
        "### Обработка аномальных значений"
      ]
    },
    {
      "cell_type": "markdown",
      "id": "52fa5ea2",
      "metadata": {
        "deletable": false,
        "editable": false,
        "id": "52fa5ea2"
      },
      "source": [
        "**Задание 6. В данных могут встречаться артефакты (аномалии) — значения, которые не отражают действительность и появились по какой-то ошибке. таким артефактом будет отрицательное количество дней трудового стажа в столбце `days_employed`. Для реальных данных это нормально. Обработайте значения в этом столбце: замените все отрицательные значения положительными с помощью метода `abs()`.**"
      ]
    },
    {
      "cell_type": "code",
      "execution_count": null,
      "id": "1a03af8b",
      "metadata": {
        "deletable": false,
        "id": "1a03af8b"
      },
      "outputs": [],
      "source": [
        "data['days_employed'] = data['days_employed'].abs()"
      ]
    },
    {
      "cell_type": "markdown",
      "id": "532c2e8e",
      "metadata": {
        "deletable": false,
        "editable": false,
        "id": "532c2e8e"
      },
      "source": [
        "**Задание 7. Для каждого типа занятости выведите медианное значение трудового стажа `days_employed` в днях.**"
      ]
    },
    {
      "cell_type": "code",
      "execution_count": null,
      "id": "3f018cc1",
      "metadata": {
        "deletable": false,
        "id": "3f018cc1",
        "outputId": "801ef80e-522b-4668-f34e-565af7432bcf"
      },
      "outputs": [
        {
          "data": {
            "text/plain": [
              "income_type\n",
              "безработный        366413.652744\n",
              "в декрете            3296.759962\n",
              "госслужащий          2689.368353\n",
              "компаньон            1547.382223\n",
              "пенсионер          365213.306266\n",
              "предприниматель       520.848083\n",
              "сотрудник            1574.202821\n",
              "студент               578.751554\n",
              "Name: days_employed, dtype: float64"
            ]
          },
          "execution_count": 7,
          "metadata": {},
          "output_type": "execute_result"
        }
      ],
      "source": [
        "data.groupby('income_type')['days_employed'].agg('median')"
      ]
    },
    {
      "cell_type": "markdown",
      "id": "36b116c9",
      "metadata": {
        "deletable": false,
        "editable": false,
        "id": "36b116c9"
      },
      "source": [
        "У двух типов (безработные и пенсионеры) получатся аномально большие значения. Исправить такие значения сложно, поэтому оставьте их как есть. Тем более этот столбец не понадобится вам для исследования."
      ]
    },
    {
      "cell_type": "markdown",
      "id": "a9b98515",
      "metadata": {
        "deletable": false,
        "editable": false,
        "id": "a9b98515"
      },
      "source": [
        "**Задание 8. Выведите перечень уникальных значений столбца `children`.**"
      ]
    },
    {
      "cell_type": "code",
      "execution_count": null,
      "id": "428a736d",
      "metadata": {
        "deletable": false,
        "id": "428a736d",
        "outputId": "6975b15c-7f95-4697-d16d-a0c79b657b03"
      },
      "outputs": [
        {
          "data": {
            "text/plain": [
              "array([ 1,  0,  3,  2, -1,  4, 20,  5])"
            ]
          },
          "execution_count": 8,
          "metadata": {},
          "output_type": "execute_result"
        }
      ],
      "source": [
        "data['children'].unique()"
      ]
    },
    {
      "cell_type": "markdown",
      "id": "7886d294",
      "metadata": {
        "deletable": false,
        "editable": false,
        "id": "7886d294"
      },
      "source": [
        "**Задание 9. В столбце `children` есть два аномальных значения. Удалите строки, в которых встречаются такие аномальные значения из датафрейма `data`.**"
      ]
    },
    {
      "cell_type": "code",
      "execution_count": null,
      "id": "14a5f497",
      "metadata": {
        "deletable": false,
        "id": "14a5f497"
      },
      "outputs": [],
      "source": [
        "data = data[(data['children'] != -1) & (data['children'] != 20)]"
      ]
    },
    {
      "cell_type": "markdown",
      "id": "76b6767c",
      "metadata": {
        "deletable": false,
        "editable": false,
        "id": "76b6767c"
      },
      "source": [
        "**Задание 10. Ещё раз выведите перечень уникальных значений столбца `children`, чтобы убедиться, что артефакты удалены.**"
      ]
    },
    {
      "cell_type": "code",
      "execution_count": null,
      "id": "f376c1d6",
      "metadata": {
        "deletable": false,
        "id": "f376c1d6",
        "outputId": "b2097101-d49d-44d9-901b-32a65c9463d1"
      },
      "outputs": [
        {
          "data": {
            "text/plain": [
              "array([1, 0, 3, 2, 4, 5])"
            ]
          },
          "execution_count": 10,
          "metadata": {},
          "output_type": "execute_result"
        }
      ],
      "source": [
        "data['children'].unique()"
      ]
    },
    {
      "cell_type": "markdown",
      "id": "a6aa04d1",
      "metadata": {
        "deletable": false,
        "editable": false,
        "id": "a6aa04d1"
      },
      "source": [
        "### Удаление пропусков (продолжение)"
      ]
    },
    {
      "cell_type": "markdown",
      "id": "ed5642af",
      "metadata": {
        "deletable": false,
        "editable": false,
        "id": "ed5642af"
      },
      "source": [
        "**Задание 11. Заполните пропуски в столбце `days_employed` медианными значениями по каждого типа занятости `income_type`.**"
      ]
    },
    {
      "cell_type": "code",
      "execution_count": null,
      "id": "c8af761e",
      "metadata": {
        "deletable": false,
        "id": "c8af761e"
      },
      "outputs": [],
      "source": [
        "for t in data['income_type'].unique():\n",
        "    data.loc[(data['income_type'] == t) & (data['days_employed'].isna()), 'days_employed'] = \\\n",
        "    data.loc[(data['income_type'] == t), 'days_employed'].median()"
      ]
    },
    {
      "cell_type": "markdown",
      "id": "9ca7938f",
      "metadata": {
        "deletable": false,
        "editable": false,
        "id": "9ca7938f"
      },
      "source": [
        "**Задание 12. Убедитесь, что все пропуски заполнены. Проверьте себя и ещё раз выведите количество пропущенных значений для каждого столбца с помощью двух методов.**"
      ]
    },
    {
      "cell_type": "code",
      "execution_count": null,
      "id": "2c87f082",
      "metadata": {
        "deletable": false,
        "id": "2c87f082",
        "outputId": "8da1e4e1-358e-4e87-98c9-f261bce0a7b2"
      },
      "outputs": [
        {
          "data": {
            "text/plain": [
              "children            0\n",
              "days_employed       0\n",
              "dob_years           0\n",
              "education           0\n",
              "education_id        0\n",
              "family_status       0\n",
              "family_status_id    0\n",
              "gender              0\n",
              "income_type         0\n",
              "debt                0\n",
              "total_income        0\n",
              "purpose             0\n",
              "dtype: int64"
            ]
          },
          "execution_count": 12,
          "metadata": {},
          "output_type": "execute_result"
        }
      ],
      "source": [
        "data.isna().sum()"
      ]
    },
    {
      "cell_type": "markdown",
      "id": "84e141ee",
      "metadata": {
        "deletable": false,
        "editable": false,
        "id": "84e141ee"
      },
      "source": [
        "### Изменение типов данных"
      ]
    },
    {
      "cell_type": "markdown",
      "id": "4842835e",
      "metadata": {
        "deletable": false,
        "editable": false,
        "id": "4842835e"
      },
      "source": [
        "**Задание 13. Замените вещественный тип данных в столбце `total_income` на целочисленный с помощью метода `astype()`.**"
      ]
    },
    {
      "cell_type": "code",
      "execution_count": null,
      "id": "1ace862e",
      "metadata": {
        "deletable": false,
        "id": "1ace862e"
      },
      "outputs": [],
      "source": [
        "data['total_income'] = data['total_income'].astype(int)"
      ]
    },
    {
      "cell_type": "markdown",
      "id": "6db4c8a2",
      "metadata": {
        "deletable": false,
        "editable": false,
        "id": "6db4c8a2"
      },
      "source": [
        "### Обработка дубликатов"
      ]
    },
    {
      "cell_type": "markdown",
      "id": "97b14f0b",
      "metadata": {
        "deletable": false,
        "editable": false,
        "id": "97b14f0b"
      },
      "source": [
        "**Задание 14. Обработайте неявные дубликаты в столбце `education`. В этом столбце есть одни и те же значения, но записанные по-разному: с использованием заглавных и строчных букв. Приведите их к нижнему регистру. Проверьте остальные столбцы.**"
      ]
    },
    {
      "cell_type": "code",
      "execution_count": null,
      "id": "6c823a22",
      "metadata": {
        "deletable": false,
        "id": "6c823a22"
      },
      "outputs": [],
      "source": [
        "data['education'] = data['education'].str.lower()"
      ]
    },
    {
      "cell_type": "markdown",
      "id": "d6dba406",
      "metadata": {
        "deletable": false,
        "editable": false,
        "id": "d6dba406"
      },
      "source": [
        "**Задание 15. Выведите на экран количество строк-дубликатов в данных. Если такие строки присутствуют, удалите их.**"
      ]
    },
    {
      "cell_type": "code",
      "execution_count": null,
      "id": "9e439871",
      "metadata": {
        "deletable": false,
        "id": "9e439871",
        "outputId": "9684deba-1934-42d1-99e1-cda61740f822"
      },
      "outputs": [
        {
          "data": {
            "text/plain": [
              "71"
            ]
          },
          "execution_count": 15,
          "metadata": {},
          "output_type": "execute_result"
        }
      ],
      "source": [
        "data.duplicated().sum()"
      ]
    },
    {
      "cell_type": "code",
      "execution_count": null,
      "id": "e72d47de",
      "metadata": {
        "deletable": false,
        "id": "e72d47de"
      },
      "outputs": [],
      "source": [
        "data = data.drop_duplicates()"
      ]
    },
    {
      "cell_type": "markdown",
      "id": "28b26567",
      "metadata": {
        "deletable": false,
        "editable": false,
        "id": "28b26567"
      },
      "source": [
        "### Категоризация данных"
      ]
    },
    {
      "cell_type": "markdown",
      "id": "20408e03",
      "metadata": {
        "deletable": false,
        "editable": false,
        "id": "20408e03"
      },
      "source": [
        "**Задание 16. На основании диапазонов, указанных ниже, создайте в датафрейме `data` столбец `total_income_category` с категориями:**\n",
        "\n",
        "- 0–30000 — `'E'`;\n",
        "- 30001–50000 — `'D'`;\n",
        "- 50001–200000 — `'C'`;\n",
        "- 200001–1000000 — `'B'`;\n",
        "- 1000001 и выше — `'A'`.\n",
        "\n",
        "\n",
        "**Например, кредитополучателю с доходом 25000 нужно назначить категорию `'E'`, а клиенту, получающему 235000, — `'B'`. Используйте собственную функцию с именем `categorize_income()` и метод `apply()`.**"
      ]
    },
    {
      "cell_type": "code",
      "execution_count": null,
      "id": "225e086c",
      "metadata": {
        "deletable": false,
        "id": "225e086c"
      },
      "outputs": [],
      "source": [
        "def categorize_income(income):\n",
        "    try:\n",
        "        if 0 <= income <= 30000:\n",
        "            return 'E'\n",
        "        elif 30001 <= income <= 50000:\n",
        "            return 'D'\n",
        "        elif 50001 <= income <= 200000:\n",
        "            return 'C'\n",
        "        elif 200001 <= income <= 1000000:\n",
        "            return 'B'\n",
        "        elif income >= 1000001:\n",
        "            return 'A'\n",
        "    except:\n",
        "        pass"
      ]
    },
    {
      "cell_type": "code",
      "execution_count": null,
      "id": "1f3a5529",
      "metadata": {
        "deletable": false,
        "id": "1f3a5529"
      },
      "outputs": [],
      "source": [
        "data['total_income_category'] = data['total_income'].apply(categorize_income)"
      ]
    },
    {
      "cell_type": "markdown",
      "id": "ddff3877",
      "metadata": {
        "deletable": false,
        "editable": false,
        "id": "ddff3877"
      },
      "source": [
        "**Задание 17. Выведите на экран перечень уникальных целей взятия кредита из столбца `purpose`.**"
      ]
    },
    {
      "cell_type": "code",
      "execution_count": null,
      "id": "c7a0bca2",
      "metadata": {
        "deletable": false,
        "id": "c7a0bca2",
        "outputId": "673c12d9-7d7e-4ae0-9812-c622c89dd244"
      },
      "outputs": [
        {
          "data": {
            "text/plain": [
              "array(['покупка жилья', 'приобретение автомобиля',\n",
              "       'дополнительное образование', 'сыграть свадьбу',\n",
              "       'операции с жильем', 'образование', 'на проведение свадьбы',\n",
              "       'покупка жилья для семьи', 'покупка недвижимости',\n",
              "       'покупка коммерческой недвижимости', 'покупка жилой недвижимости',\n",
              "       'строительство собственной недвижимости', 'недвижимость',\n",
              "       'строительство недвижимости', 'на покупку подержанного автомобиля',\n",
              "       'на покупку своего автомобиля',\n",
              "       'операции с коммерческой недвижимостью',\n",
              "       'строительство жилой недвижимости', 'жилье',\n",
              "       'операции со своей недвижимостью', 'автомобили',\n",
              "       'заняться образованием', 'сделка с подержанным автомобилем',\n",
              "       'получение образования', 'автомобиль', 'свадьба',\n",
              "       'получение дополнительного образования', 'покупка своего жилья',\n",
              "       'операции с недвижимостью', 'получение высшего образования',\n",
              "       'свой автомобиль', 'сделка с автомобилем',\n",
              "       'профильное образование', 'высшее образование',\n",
              "       'покупка жилья для сдачи', 'на покупку автомобиля', 'ремонт жилью',\n",
              "       'заняться высшим образованием'], dtype=object)"
            ]
          },
          "execution_count": 19,
          "metadata": {},
          "output_type": "execute_result"
        }
      ],
      "source": [
        "data['purpose'].unique()"
      ]
    },
    {
      "cell_type": "markdown",
      "id": "57b61d42",
      "metadata": {
        "deletable": false,
        "editable": false,
        "id": "57b61d42"
      },
      "source": [
        "**Задание 18. Создайте функцию, которая на основании данных из столбца `purpose` сформирует новый столбец `purpose_category`, в который войдут следующие категории:**\n",
        "\n",
        "- `'операции с автомобилем'`,\n",
        "- `'операции с недвижимостью'`,\n",
        "- `'проведение свадьбы'`,\n",
        "- `'получение образования'`.\n",
        "\n",
        "**Например, если в столбце `purpose` находится подстрока `'на покупку автомобиля'`, то в столбце `purpose_category` должна появиться строка `'операции с автомобилем'`.**\n",
        "\n",
        "**Используйте собственную функцию с именем `categorize_purpose()` и метод `apply()`. Изучите данные в столбце `purpose` и определите, какие подстроки помогут вам правильно определить категорию.**"
      ]
    },
    {
      "cell_type": "code",
      "execution_count": null,
      "id": "8107adf5",
      "metadata": {
        "deletable": false,
        "id": "8107adf5"
      },
      "outputs": [],
      "source": [
        "def categorize_purpose(row):\n",
        "    try:\n",
        "        if 'автом' in row:\n",
        "            return 'операции с автомобилем'\n",
        "        elif 'жил' in row or 'недвиж' in row:\n",
        "            return 'операции с недвижимостью'\n",
        "        elif 'свад' in row:\n",
        "            return 'проведение свадьбы'\n",
        "        elif 'образов' in row:\n",
        "            return 'получение образования'\n",
        "    except:\n",
        "        return 'нет категории'"
      ]
    },
    {
      "cell_type": "code",
      "execution_count": null,
      "id": "b1dbf4b8",
      "metadata": {
        "deletable": false,
        "id": "b1dbf4b8"
      },
      "outputs": [],
      "source": [
        "data['purpose_category'] = data['purpose'].apply(categorize_purpose)"
      ]
    },
    {
      "cell_type": "markdown",
      "id": "e5e676a8",
      "metadata": {
        "deletable": false,
        "editable": false,
        "id": "e5e676a8"
      },
      "source": [
        "### Шаг 3. Исследуйте данные и ответьте на вопросы"
      ]
    },
    {
      "cell_type": "markdown",
      "id": "ecf7e1f3",
      "metadata": {
        "deletable": false,
        "editable": false,
        "id": "ecf7e1f3"
      },
      "source": [
        "#### 3.1 Есть ли зависимость между количеством детей и возвратом кредита в срок?"
      ]
    },
    {
      "cell_type": "code",
      "execution_count": null,
      "id": "5fa09975",
      "metadata": {
        "deletable": false,
        "id": "5fa09975",
        "outputId": "3e0c944a-c28b-40ee-9fe7-e7232e3b63d4"
      },
      "outputs": [
        {
          "data": {
            "text/html": [
              "<div>\n",
              "<style scoped>\n",
              "    .dataframe tbody tr th:only-of-type {\n",
              "        vertical-align: middle;\n",
              "    }\n",
              "\n",
              "    .dataframe tbody tr th {\n",
              "        vertical-align: top;\n",
              "    }\n",
              "\n",
              "    .dataframe thead th {\n",
              "        text-align: right;\n",
              "    }\n",
              "</style>\n",
              "<table border=\"1\" class=\"dataframe\">\n",
              "  <thead>\n",
              "    <tr style=\"text-align: right;\">\n",
              "      <th></th>\n",
              "      <th>Количество записей</th>\n",
              "      <th>Среднее</th>\n",
              "    </tr>\n",
              "    <tr>\n",
              "      <th>children</th>\n",
              "      <th></th>\n",
              "      <th></th>\n",
              "    </tr>\n",
              "  </thead>\n",
              "  <tbody>\n",
              "    <tr>\n",
              "      <th>0</th>\n",
              "      <td>14091.0</td>\n",
              "      <td>7.54%</td>\n",
              "    </tr>\n",
              "    <tr>\n",
              "      <th>1</th>\n",
              "      <td>4808.0</td>\n",
              "      <td>9.23%</td>\n",
              "    </tr>\n",
              "    <tr>\n",
              "      <th>2</th>\n",
              "      <td>2052.0</td>\n",
              "      <td>9.45%</td>\n",
              "    </tr>\n",
              "    <tr>\n",
              "      <th>3</th>\n",
              "      <td>330.0</td>\n",
              "      <td>8.18%</td>\n",
              "    </tr>\n",
              "    <tr>\n",
              "      <th>4</th>\n",
              "      <td>41.0</td>\n",
              "      <td>9.76%</td>\n",
              "    </tr>\n",
              "    <tr>\n",
              "      <th>5</th>\n",
              "      <td>9.0</td>\n",
              "      <td>0.00%</td>\n",
              "    </tr>\n",
              "  </tbody>\n",
              "</table>\n",
              "</div>"
            ],
            "text/plain": [
              "          Количество записей Среднее\n",
              "children                            \n",
              "0                    14091.0   7.54%\n",
              "1                     4808.0   9.23%\n",
              "2                     2052.0   9.45%\n",
              "3                      330.0   8.18%\n",
              "4                       41.0   9.76%\n",
              "5                        9.0   0.00%"
            ]
          },
          "execution_count": 41,
          "metadata": {},
          "output_type": "execute_result"
        }
      ],
      "source": [
        "# Ваш код будет здесь. Вы можете создавать новые ячейки\n",
        "#import matplotlib.pyplot as plt\n",
        "#data_children = data[['children','debt']].value_counts()\n",
        "#data_children.plot(kind='bar')\n",
        "\n",
        "# Подготавливаем сводную таблицу по категориям\n",
        "children = data.pivot_table(index = ['children'], values = 'debt', aggfunc = ('mean', lambda X:\n",
        "                                                                       X.count()))\n",
        "#форматируем в проценты для чёткого разделения и понимания\n",
        "def percent(x):\n",
        "    return \"{0:.2%}\".format(x)\n",
        "\n",
        "children['mean'] = children['mean'].apply(percent)\n",
        "#Переименовываем колонны, для того, чтобы бизнес мог прочесть и понять сводную таблицу\n",
        "children = children.rename(columns={'<lambda_0>': 'Количество записей', 'mean': 'Среднее'})\n",
        "#Сортеруем в порядке убывания по столбцу Количество записей\n",
        "children.sort_values(by='Количество записей', ascending=False)\n"
      ]
    },
    {
      "cell_type": "markdown",
      "id": "f73f11bd",
      "metadata": {
        "deletable": false,
        "id": "f73f11bd"
      },
      "source": [
        "**Вывод:** данный график показывает, что кредит возвращают в срок больше людей,у которых нет детей."
      ]
    },
    {
      "cell_type": "markdown",
      "id": "4733109f",
      "metadata": {
        "deletable": false,
        "editable": false,
        "id": "4733109f"
      },
      "source": [
        "#### 3.2 Есть ли зависимость между семейным положением и возвратом кредита в срок?"
      ]
    },
    {
      "cell_type": "code",
      "execution_count": null,
      "id": "ec3aec0b",
      "metadata": {
        "deletable": false,
        "id": "ec3aec0b",
        "outputId": "de0e37c0-329e-4987-8191-b5027a1b1900"
      },
      "outputs": [
        {
          "data": {
            "text/html": [
              "<div>\n",
              "<style scoped>\n",
              "    .dataframe tbody tr th:only-of-type {\n",
              "        vertical-align: middle;\n",
              "    }\n",
              "\n",
              "    .dataframe tbody tr th {\n",
              "        vertical-align: top;\n",
              "    }\n",
              "\n",
              "    .dataframe thead th {\n",
              "        text-align: right;\n",
              "    }\n",
              "</style>\n",
              "<table border=\"1\" class=\"dataframe\">\n",
              "  <thead>\n",
              "    <tr style=\"text-align: right;\">\n",
              "      <th></th>\n",
              "      <th>Количество записей</th>\n",
              "      <th>Среднее</th>\n",
              "    </tr>\n",
              "    <tr>\n",
              "      <th>family_status</th>\n",
              "      <th></th>\n",
              "      <th></th>\n",
              "    </tr>\n",
              "  </thead>\n",
              "  <tbody>\n",
              "    <tr>\n",
              "      <th>женат / замужем</th>\n",
              "      <td>12261.0</td>\n",
              "      <td>7.56%</td>\n",
              "    </tr>\n",
              "    <tr>\n",
              "      <th>гражданский брак</th>\n",
              "      <td>4134.0</td>\n",
              "      <td>9.31%</td>\n",
              "    </tr>\n",
              "    <tr>\n",
              "      <th>Не женат / не замужем</th>\n",
              "      <td>2796.0</td>\n",
              "      <td>9.76%</td>\n",
              "    </tr>\n",
              "    <tr>\n",
              "      <th>в разводе</th>\n",
              "      <td>1189.0</td>\n",
              "      <td>7.06%</td>\n",
              "    </tr>\n",
              "    <tr>\n",
              "      <th>вдовец / вдова</th>\n",
              "      <td>951.0</td>\n",
              "      <td>6.62%</td>\n",
              "    </tr>\n",
              "  </tbody>\n",
              "</table>\n",
              "</div>"
            ],
            "text/plain": [
              "                       Количество записей Среднее\n",
              "family_status                                    \n",
              "женат / замужем                   12261.0   7.56%\n",
              "гражданский брак                   4134.0   9.31%\n",
              "Не женат / не замужем              2796.0   9.76%\n",
              "в разводе                          1189.0   7.06%\n",
              "вдовец / вдова                      951.0   6.62%"
            ]
          },
          "execution_count": 42,
          "metadata": {},
          "output_type": "execute_result"
        }
      ],
      "source": [
        "# Ваш код будет здесь. Вы можете создавать новые ячейки.\n",
        "#data_family = data[['family_status','debt']].value_counts()\n",
        "#data_family.plot(kind='bar')\n",
        "children = data.pivot_table(index = ['family_status'], values = 'debt', aggfunc = ('mean', lambda X:\n",
        "                                                                       X.count()))\n",
        "def percent(x):\n",
        "    return \"{0:.2%}\".format(x)\n",
        "\n",
        "children['mean'] = children['mean'].apply(percent)\n",
        "children = children.rename(columns={'<lambda_0>': 'Количество записей', 'mean': 'Среднее'})\n",
        "children.sort_values(by='Количество записей', ascending=False)"
      ]
    },
    {
      "cell_type": "markdown",
      "id": "a926d2f6",
      "metadata": {
        "deletable": false,
        "id": "a926d2f6"
      },
      "source": [
        "**Вывод:** данный график показывает, что кредит возвращают вовремя семейные пары чаще,чем остальные"
      ]
    },
    {
      "cell_type": "markdown",
      "id": "02beacc2",
      "metadata": {
        "deletable": false,
        "editable": false,
        "id": "02beacc2"
      },
      "source": [
        "#### 3.3 Есть ли зависимость между уровнем дохода и возвратом кредита в срок?"
      ]
    },
    {
      "cell_type": "code",
      "execution_count": null,
      "id": "c1b47fcb",
      "metadata": {
        "deletable": false,
        "id": "c1b47fcb",
        "outputId": "06a41866-3817-430a-ecfb-e5713a6b25f9"
      },
      "outputs": [
        {
          "data": {
            "text/html": [
              "<div>\n",
              "<style scoped>\n",
              "    .dataframe tbody tr th:only-of-type {\n",
              "        vertical-align: middle;\n",
              "    }\n",
              "\n",
              "    .dataframe tbody tr th {\n",
              "        vertical-align: top;\n",
              "    }\n",
              "\n",
              "    .dataframe thead th {\n",
              "        text-align: right;\n",
              "    }\n",
              "</style>\n",
              "<table border=\"1\" class=\"dataframe\">\n",
              "  <thead>\n",
              "    <tr style=\"text-align: right;\">\n",
              "      <th></th>\n",
              "      <th>Количество записей</th>\n",
              "      <th>Среднее</th>\n",
              "    </tr>\n",
              "    <tr>\n",
              "      <th>total_income_category</th>\n",
              "      <th></th>\n",
              "      <th></th>\n",
              "    </tr>\n",
              "  </thead>\n",
              "  <tbody>\n",
              "    <tr>\n",
              "      <th>C</th>\n",
              "      <td>15921.0</td>\n",
              "      <td>8.50%</td>\n",
              "    </tr>\n",
              "    <tr>\n",
              "      <th>B</th>\n",
              "      <td>5014.0</td>\n",
              "      <td>7.06%</td>\n",
              "    </tr>\n",
              "    <tr>\n",
              "      <th>D</th>\n",
              "      <td>349.0</td>\n",
              "      <td>6.02%</td>\n",
              "    </tr>\n",
              "    <tr>\n",
              "      <th>A</th>\n",
              "      <td>25.0</td>\n",
              "      <td>8.00%</td>\n",
              "    </tr>\n",
              "    <tr>\n",
              "      <th>E</th>\n",
              "      <td>22.0</td>\n",
              "      <td>9.09%</td>\n",
              "    </tr>\n",
              "  </tbody>\n",
              "</table>\n",
              "</div>"
            ],
            "text/plain": [
              "                       Количество записей Среднее\n",
              "total_income_category                            \n",
              "C                                 15921.0   8.50%\n",
              "B                                  5014.0   7.06%\n",
              "D                                   349.0   6.02%\n",
              "A                                    25.0   8.00%\n",
              "E                                    22.0   9.09%"
            ]
          },
          "execution_count": 43,
          "metadata": {},
          "output_type": "execute_result"
        }
      ],
      "source": [
        "# Ваш код будет здесь. Вы можете создавать новые ячейки.\n",
        "#data_total_income = data[['total_income_category','debt']].value_counts()\n",
        "#data_total_income.plot(kind='bar')\n",
        "children = data.pivot_table(index = ['total_income_category'], values = 'debt', aggfunc = ('mean', lambda X:\n",
        "                                                                       X.count()))\n",
        "def percent(x):\n",
        "    return \"{0:.2%}\".format(x)\n",
        "\n",
        "children['mean'] = children['mean'].apply(percent)\n",
        "children = children.rename(columns={'<lambda_0>': 'Количество записей', 'mean': 'Среднее'})\n",
        "children.sort_values(by='Количество записей', ascending=False)"
      ]
    },
    {
      "cell_type": "markdown",
      "id": "418ebefb",
      "metadata": {
        "deletable": false,
        "id": "418ebefb"
      },
      "source": [
        "**Вывод:** данный график показывает, что чаще всего берут и возвращают в срок кредит люди с категорией \"С\" и \"В\", реже просрочки допускают люди с категорией дохода \"В\""
      ]
    },
    {
      "cell_type": "markdown",
      "id": "135e941d",
      "metadata": {
        "deletable": false,
        "editable": false,
        "id": "135e941d"
      },
      "source": [
        "#### 3.4 Как разные цели кредита влияют на его возврат в срок?"
      ]
    },
    {
      "cell_type": "code",
      "execution_count": null,
      "id": "97f627df",
      "metadata": {
        "deletable": false,
        "id": "97f627df",
        "outputId": "9fae1a94-0836-4a52-cd14-5ff74c26147e"
      },
      "outputs": [
        {
          "data": {
            "text/html": [
              "<div>\n",
              "<style scoped>\n",
              "    .dataframe tbody tr th:only-of-type {\n",
              "        vertical-align: middle;\n",
              "    }\n",
              "\n",
              "    .dataframe tbody tr th {\n",
              "        vertical-align: top;\n",
              "    }\n",
              "\n",
              "    .dataframe thead th {\n",
              "        text-align: right;\n",
              "    }\n",
              "</style>\n",
              "<table border=\"1\" class=\"dataframe\">\n",
              "  <thead>\n",
              "    <tr style=\"text-align: right;\">\n",
              "      <th></th>\n",
              "      <th>Количество записей</th>\n",
              "      <th>Среднее</th>\n",
              "    </tr>\n",
              "    <tr>\n",
              "      <th>purpose_category</th>\n",
              "      <th></th>\n",
              "      <th></th>\n",
              "    </tr>\n",
              "  </thead>\n",
              "  <tbody>\n",
              "    <tr>\n",
              "      <th>операции с недвижимостью</th>\n",
              "      <td>10751.0</td>\n",
              "      <td>7.26%</td>\n",
              "    </tr>\n",
              "    <tr>\n",
              "      <th>операции с автомобилем</th>\n",
              "      <td>4279.0</td>\n",
              "      <td>9.35%</td>\n",
              "    </tr>\n",
              "    <tr>\n",
              "      <th>получение образования</th>\n",
              "      <td>3988.0</td>\n",
              "      <td>9.25%</td>\n",
              "    </tr>\n",
              "    <tr>\n",
              "      <th>проведение свадьбы</th>\n",
              "      <td>2313.0</td>\n",
              "      <td>7.91%</td>\n",
              "    </tr>\n",
              "  </tbody>\n",
              "</table>\n",
              "</div>"
            ],
            "text/plain": [
              "                          Количество записей Среднее\n",
              "purpose_category                                    \n",
              "операции с недвижимостью             10751.0   7.26%\n",
              "операции с автомобилем                4279.0   9.35%\n",
              "получение образования                 3988.0   9.25%\n",
              "проведение свадьбы                    2313.0   7.91%"
            ]
          },
          "execution_count": 45,
          "metadata": {},
          "output_type": "execute_result"
        }
      ],
      "source": [
        "# Ваш код будет здесь. Вы можете создавать новые ячейки.\n",
        "#data_purpose_category = data[['purpose_category','debt']].value_counts()\n",
        "#data_purpose_category.plot(kind='bar')\n",
        "children = data.pivot_table(index = ['purpose_category'], values = 'debt', aggfunc = ('mean', lambda X:\n",
        "                                                                       X.count()))\n",
        "def percent(x):\n",
        "    return \"{0:.2%}\".format(x)\n",
        "\n",
        "children['mean'] = children['mean'].apply(percent)\n",
        "children = children.rename(columns={'<lambda_0>': 'Количество записей', 'mean': 'Среднее'})\n",
        "children.sort_values(by='Количество записей', ascending=False)"
      ]
    },
    {
      "cell_type": "markdown",
      "id": "5c857ba3",
      "metadata": {
        "deletable": false,
        "id": "5c857ba3"
      },
      "source": [
        "**Вывод:** Данный график показывает, что чаще всего берут и возвращают в срок кредит для операций с недвижимостью."
      ]
    },
    {
      "cell_type": "markdown",
      "id": "35f1657e",
      "metadata": {
        "deletable": false,
        "editable": false,
        "id": "35f1657e"
      },
      "source": [
        "#### 3.5 Приведите возможные причины появления пропусков в исходных данных."
      ]
    },
    {
      "cell_type": "markdown",
      "id": "8b1e2b19",
      "metadata": {
        "deletable": false,
        "id": "8b1e2b19"
      },
      "source": [
        "*Ответ:* пропуски находятся сразу в двух категориях: 1. Заработанная плата\n",
        "                                                     2. Общий трудовой стаж в днях\n",
        "         С большей вероятностью заёмщик сам не указал эти данные, либо их пропустил сотрудник банка,что маловероятно"
      ]
    },
    {
      "cell_type": "markdown",
      "id": "0a19044b",
      "metadata": {
        "deletable": false,
        "editable": false,
        "id": "0a19044b"
      },
      "source": [
        "#### 3.6 Объясните, почему заполнить пропуски медианным значением — лучшее решение для количественных переменных."
      ]
    },
    {
      "cell_type": "markdown",
      "id": "5afa14f4",
      "metadata": {
        "deletable": false,
        "id": "5afa14f4"
      },
      "source": [
        "*Ответ:*  Среднее значение некорректно характеризует данные, когда некоторые значения сильно выделяются среди большинства. Медиана - Это более объективная информация о зарплате сотрудников, чем среднее значение."
      ]
    },
    {
      "cell_type": "markdown",
      "id": "541ff91e",
      "metadata": {
        "deletable": false,
        "editable": false,
        "id": "541ff91e"
      },
      "source": [
        "### Шаг 4: общий вывод."
      ]
    },
    {
      "cell_type": "markdown",
      "id": "c75d40fd",
      "metadata": {
        "deletable": false,
        "id": "c75d40fd"
      },
      "source": [
        "В категории children - идеальными заёмщиками являются люди,которые не имеют детей.\n",
        "В категории family_status - идеальными заёмщиками являются люди,которые состоят в браке.\n",
        "В категории total_income_category - идеальными заёмщиками являются люди с доходом от 200001 до 1000000.\n",
        "В категории purpose_category - идеальными заёмщиками являются люди,которые берут кредит с целью траты на недвижимость."
      ]
    }
  ],
  "metadata": {
    "ExecuteTimeLog": [
      {
        "duration": 47,
        "start_time": "2022-10-31T23:11:02.653Z"
      },
      {
        "duration": 642,
        "start_time": "2022-10-31T23:11:11.916Z"
      },
      {
        "duration": 23,
        "start_time": "2022-10-31T23:11:12.560Z"
      },
      {
        "duration": 14,
        "start_time": "2022-10-31T23:11:12.585Z"
      },
      {
        "duration": 9,
        "start_time": "2022-10-31T23:11:12.601Z"
      },
      {
        "duration": 31,
        "start_time": "2022-10-31T23:11:12.611Z"
      },
      {
        "duration": 3,
        "start_time": "2022-10-31T23:11:12.643Z"
      },
      {
        "duration": 34,
        "start_time": "2022-10-31T23:11:12.647Z"
      },
      {
        "duration": 4,
        "start_time": "2022-10-31T23:11:12.682Z"
      },
      {
        "duration": 10,
        "start_time": "2022-10-31T23:11:12.687Z"
      },
      {
        "duration": 3,
        "start_time": "2022-10-31T23:11:12.699Z"
      },
      {
        "duration": 32,
        "start_time": "2022-10-31T23:11:12.704Z"
      },
      {
        "duration": 8,
        "start_time": "2022-10-31T23:11:12.738Z"
      },
      {
        "duration": 29,
        "start_time": "2022-10-31T23:11:12.748Z"
      },
      {
        "duration": 13,
        "start_time": "2022-10-31T23:11:12.779Z"
      },
      {
        "duration": 19,
        "start_time": "2022-10-31T23:11:12.793Z"
      },
      {
        "duration": 16,
        "start_time": "2022-10-31T23:11:12.813Z"
      },
      {
        "duration": 4,
        "start_time": "2022-10-31T23:11:12.831Z"
      },
      {
        "duration": 12,
        "start_time": "2022-10-31T23:11:12.836Z"
      },
      {
        "duration": 32,
        "start_time": "2022-10-31T23:11:12.849Z"
      },
      {
        "duration": 5,
        "start_time": "2022-10-31T23:11:12.883Z"
      },
      {
        "duration": 13,
        "start_time": "2022-10-31T23:11:12.889Z"
      },
      {
        "duration": 21,
        "start_time": "2022-10-31T23:11:12.904Z"
      },
      {
        "duration": 2,
        "start_time": "2022-10-31T23:11:12.927Z"
      },
      {
        "duration": 16,
        "start_time": "2022-10-31T23:11:12.931Z"
      },
      {
        "duration": 6,
        "start_time": "2022-10-31T23:11:12.949Z"
      },
      {
        "duration": 64,
        "start_time": "2022-10-31T23:18:11.620Z"
      },
      {
        "duration": 3,
        "start_time": "2022-10-31T23:19:50.618Z"
      },
      {
        "duration": 4,
        "start_time": "2022-10-31T23:20:04.342Z"
      },
      {
        "duration": 6,
        "start_time": "2022-10-31T23:20:17.374Z"
      },
      {
        "duration": 5,
        "start_time": "2022-10-31T23:24:21.026Z"
      },
      {
        "duration": 6,
        "start_time": "2022-10-31T23:27:48.402Z"
      },
      {
        "duration": 51,
        "start_time": "2022-11-01T15:36:53.228Z"
      },
      {
        "duration": 746,
        "start_time": "2022-11-01T15:37:27.130Z"
      },
      {
        "duration": 21,
        "start_time": "2022-11-01T15:37:27.877Z"
      },
      {
        "duration": 14,
        "start_time": "2022-11-01T15:37:27.900Z"
      },
      {
        "duration": 8,
        "start_time": "2022-11-01T15:37:27.916Z"
      },
      {
        "duration": 32,
        "start_time": "2022-11-01T15:37:27.926Z"
      },
      {
        "duration": 3,
        "start_time": "2022-11-01T15:37:27.959Z"
      },
      {
        "duration": 10,
        "start_time": "2022-11-01T15:37:27.964Z"
      },
      {
        "duration": 3,
        "start_time": "2022-11-01T15:37:27.976Z"
      },
      {
        "duration": 28,
        "start_time": "2022-11-01T15:37:27.981Z"
      },
      {
        "duration": 4,
        "start_time": "2022-11-01T15:37:28.012Z"
      },
      {
        "duration": 35,
        "start_time": "2022-11-01T15:37:28.017Z"
      },
      {
        "duration": 8,
        "start_time": "2022-11-01T15:37:28.053Z"
      },
      {
        "duration": 7,
        "start_time": "2022-11-01T15:37:28.063Z"
      },
      {
        "duration": 12,
        "start_time": "2022-11-01T15:37:28.071Z"
      },
      {
        "duration": 37,
        "start_time": "2022-11-01T15:37:28.084Z"
      },
      {
        "duration": 19,
        "start_time": "2022-11-01T15:37:28.122Z"
      },
      {
        "duration": 5,
        "start_time": "2022-11-01T15:37:28.142Z"
      },
      {
        "duration": 17,
        "start_time": "2022-11-01T15:37:28.149Z"
      },
      {
        "duration": 13,
        "start_time": "2022-11-01T15:37:28.167Z"
      },
      {
        "duration": 7,
        "start_time": "2022-11-01T15:37:28.181Z"
      },
      {
        "duration": 21,
        "start_time": "2022-11-01T15:37:28.189Z"
      },
      {
        "duration": 13,
        "start_time": "2022-11-01T15:37:28.212Z"
      },
      {
        "duration": 2,
        "start_time": "2022-11-01T15:37:28.227Z"
      },
      {
        "duration": 5,
        "start_time": "2022-11-01T15:37:28.231Z"
      },
      {
        "duration": 9,
        "start_time": "2022-11-01T15:37:28.238Z"
      },
      {
        "duration": 9,
        "start_time": "2022-11-01T15:37:44.685Z"
      },
      {
        "duration": 10,
        "start_time": "2022-11-01T15:40:59.334Z"
      },
      {
        "duration": 19,
        "start_time": "2022-11-01T15:42:47.554Z"
      },
      {
        "duration": 6,
        "start_time": "2022-11-01T15:56:32.337Z"
      },
      {
        "duration": 6,
        "start_time": "2022-11-01T15:56:51.155Z"
      },
      {
        "duration": 7,
        "start_time": "2022-11-01T16:01:09.331Z"
      },
      {
        "duration": 7,
        "start_time": "2022-11-01T16:01:20.315Z"
      },
      {
        "duration": 11,
        "start_time": "2022-11-01T16:03:49.508Z"
      },
      {
        "duration": 13,
        "start_time": "2022-11-01T16:04:16.724Z"
      },
      {
        "duration": 13,
        "start_time": "2022-11-01T16:04:29.480Z"
      },
      {
        "duration": 11,
        "start_time": "2022-11-01T16:04:56.759Z"
      },
      {
        "duration": 11,
        "start_time": "2022-11-01T16:05:16.441Z"
      },
      {
        "duration": 12,
        "start_time": "2022-11-01T16:05:25.489Z"
      },
      {
        "duration": 1071,
        "start_time": "2022-11-01T16:13:58.749Z"
      },
      {
        "duration": 244,
        "start_time": "2022-11-01T16:14:34.420Z"
      },
      {
        "duration": 292,
        "start_time": "2022-11-01T16:16:21.383Z"
      },
      {
        "duration": 154,
        "start_time": "2022-11-01T16:17:55.947Z"
      },
      {
        "duration": 13,
        "start_time": "2022-11-01T16:22:29.418Z"
      },
      {
        "duration": 9,
        "start_time": "2022-11-01T16:26:07.647Z"
      },
      {
        "duration": 8,
        "start_time": "2022-11-01T16:26:22.261Z"
      },
      {
        "duration": 12,
        "start_time": "2022-11-01T16:36:26.864Z"
      },
      {
        "duration": 12,
        "start_time": "2022-11-01T16:36:44.167Z"
      },
      {
        "duration": 9,
        "start_time": "2022-11-01T16:37:30.863Z"
      },
      {
        "duration": 8,
        "start_time": "2022-11-01T16:37:55.615Z"
      },
      {
        "duration": 7,
        "start_time": "2022-11-01T16:38:37.230Z"
      },
      {
        "duration": 9,
        "start_time": "2022-11-01T16:38:55.001Z"
      },
      {
        "duration": 9,
        "start_time": "2022-11-01T16:39:00.274Z"
      },
      {
        "duration": 7,
        "start_time": "2022-11-01T16:39:13.936Z"
      },
      {
        "duration": 9,
        "start_time": "2022-11-01T16:39:24.133Z"
      },
      {
        "duration": 109,
        "start_time": "2022-11-01T16:41:29.891Z"
      },
      {
        "duration": 224,
        "start_time": "2022-11-01T16:46:52.497Z"
      },
      {
        "duration": 157,
        "start_time": "2022-11-01T16:48:43.799Z"
      },
      {
        "duration": 135,
        "start_time": "2022-11-01T16:48:51.787Z"
      },
      {
        "duration": 164,
        "start_time": "2022-11-01T16:53:12.113Z"
      },
      {
        "duration": 476,
        "start_time": "2022-11-01T16:58:23.614Z"
      },
      {
        "duration": 22,
        "start_time": "2022-11-01T16:58:24.093Z"
      },
      {
        "duration": 23,
        "start_time": "2022-11-01T16:58:24.117Z"
      },
      {
        "duration": 23,
        "start_time": "2022-11-01T16:58:24.143Z"
      },
      {
        "duration": 36,
        "start_time": "2022-11-01T16:58:24.168Z"
      },
      {
        "duration": 3,
        "start_time": "2022-11-01T16:58:24.205Z"
      },
      {
        "duration": 17,
        "start_time": "2022-11-01T16:58:24.209Z"
      },
      {
        "duration": 21,
        "start_time": "2022-11-01T16:58:24.227Z"
      },
      {
        "duration": 23,
        "start_time": "2022-11-01T16:58:24.250Z"
      },
      {
        "duration": 5,
        "start_time": "2022-11-01T16:58:24.276Z"
      },
      {
        "duration": 32,
        "start_time": "2022-11-01T16:58:24.282Z"
      },
      {
        "duration": 9,
        "start_time": "2022-11-01T16:58:24.316Z"
      },
      {
        "duration": 7,
        "start_time": "2022-11-01T16:58:24.326Z"
      },
      {
        "duration": 15,
        "start_time": "2022-11-01T16:58:24.335Z"
      },
      {
        "duration": 22,
        "start_time": "2022-11-01T16:58:24.351Z"
      },
      {
        "duration": 17,
        "start_time": "2022-11-01T16:58:24.375Z"
      },
      {
        "duration": 3,
        "start_time": "2022-11-01T16:58:24.409Z"
      },
      {
        "duration": 13,
        "start_time": "2022-11-01T16:58:24.414Z"
      },
      {
        "duration": 10,
        "start_time": "2022-11-01T16:58:24.429Z"
      },
      {
        "duration": 6,
        "start_time": "2022-11-01T16:58:24.440Z"
      },
      {
        "duration": 11,
        "start_time": "2022-11-01T16:58:24.447Z"
      },
      {
        "duration": 369,
        "start_time": "2022-11-01T16:58:24.459Z"
      },
      {
        "duration": 173,
        "start_time": "2022-11-01T16:58:24.830Z"
      },
      {
        "duration": 239577,
        "start_time": "2022-11-01T16:58:25.008Z"
      },
      {
        "duration": 2,
        "start_time": "2022-11-01T17:02:24.587Z"
      },
      {
        "duration": 138,
        "start_time": "2022-11-01T17:07:55.148Z"
      },
      {
        "duration": 170,
        "start_time": "2022-11-01T17:14:24.133Z"
      },
      {
        "duration": 61,
        "start_time": "2022-11-01T18:34:55.648Z"
      },
      {
        "duration": 133,
        "start_time": "2022-11-01T20:34:04.531Z"
      },
      {
        "duration": 774,
        "start_time": "2022-11-01T20:34:22.038Z"
      },
      {
        "duration": 25,
        "start_time": "2022-11-01T20:34:22.814Z"
      },
      {
        "duration": 17,
        "start_time": "2022-11-01T20:34:22.841Z"
      },
      {
        "duration": 11,
        "start_time": "2022-11-01T20:34:22.861Z"
      },
      {
        "duration": 63,
        "start_time": "2022-11-01T20:34:22.873Z"
      },
      {
        "duration": 4,
        "start_time": "2022-11-01T20:34:22.938Z"
      },
      {
        "duration": 14,
        "start_time": "2022-11-01T20:34:22.943Z"
      },
      {
        "duration": 10,
        "start_time": "2022-11-01T20:34:22.958Z"
      },
      {
        "duration": 9,
        "start_time": "2022-11-01T20:34:22.970Z"
      },
      {
        "duration": 6,
        "start_time": "2022-11-01T20:34:22.984Z"
      },
      {
        "duration": 61,
        "start_time": "2022-11-01T20:34:22.992Z"
      },
      {
        "duration": 10,
        "start_time": "2022-11-01T20:34:23.055Z"
      },
      {
        "duration": 4,
        "start_time": "2022-11-01T20:34:23.066Z"
      },
      {
        "duration": 14,
        "start_time": "2022-11-01T20:34:23.071Z"
      },
      {
        "duration": 45,
        "start_time": "2022-11-01T20:34:23.087Z"
      },
      {
        "duration": 17,
        "start_time": "2022-11-01T20:34:23.134Z"
      },
      {
        "duration": 4,
        "start_time": "2022-11-01T20:34:23.153Z"
      },
      {
        "duration": 21,
        "start_time": "2022-11-01T20:34:23.159Z"
      },
      {
        "duration": 8,
        "start_time": "2022-11-01T20:34:23.182Z"
      },
      {
        "duration": 30,
        "start_time": "2022-11-01T20:34:23.192Z"
      },
      {
        "duration": 23,
        "start_time": "2022-11-01T20:34:23.224Z"
      },
      {
        "duration": 45,
        "start_time": "2022-11-01T20:34:23.249Z"
      },
      {
        "duration": 0,
        "start_time": "2022-11-01T20:34:23.296Z"
      },
      {
        "duration": 0,
        "start_time": "2022-11-01T20:34:23.297Z"
      },
      {
        "duration": 0,
        "start_time": "2022-11-01T20:34:23.299Z"
      },
      {
        "duration": 72,
        "start_time": "2022-11-01T20:34:41.789Z"
      },
      {
        "duration": 43,
        "start_time": "2022-11-01T20:35:04.771Z"
      },
      {
        "duration": 25,
        "start_time": "2022-11-01T20:35:25.377Z"
      },
      {
        "duration": 56,
        "start_time": "2022-11-01T20:35:51.061Z"
      },
      {
        "duration": 21,
        "start_time": "2022-11-01T20:35:56.824Z"
      },
      {
        "duration": 16,
        "start_time": "2022-11-01T20:36:10.497Z"
      },
      {
        "duration": 7,
        "start_time": "2022-11-01T20:36:37.689Z"
      },
      {
        "duration": 20,
        "start_time": "2022-11-01T20:37:12.672Z"
      },
      {
        "duration": 20,
        "start_time": "2022-11-01T20:37:52.201Z"
      },
      {
        "duration": 27,
        "start_time": "2022-11-01T20:38:25.123Z"
      },
      {
        "duration": 20,
        "start_time": "2022-11-01T20:41:57.682Z"
      },
      {
        "duration": 20,
        "start_time": "2022-11-01T20:44:04.181Z"
      },
      {
        "duration": 23,
        "start_time": "2022-11-01T20:44:49.477Z"
      },
      {
        "duration": 21,
        "start_time": "2022-11-01T20:45:39.486Z"
      },
      {
        "duration": 25,
        "start_time": "2022-11-01T20:49:55.303Z"
      },
      {
        "duration": 21,
        "start_time": "2022-11-01T20:50:40.551Z"
      },
      {
        "duration": 25,
        "start_time": "2022-11-01T20:50:45.316Z"
      },
      {
        "duration": 31,
        "start_time": "2022-11-01T20:52:08.095Z"
      },
      {
        "duration": 22,
        "start_time": "2022-11-01T20:52:42.400Z"
      },
      {
        "duration": 26,
        "start_time": "2022-11-01T20:54:57.858Z"
      },
      {
        "duration": 24,
        "start_time": "2022-11-01T20:55:52.036Z"
      },
      {
        "duration": 2,
        "start_time": "2022-11-01T20:56:31.463Z"
      },
      {
        "duration": 22,
        "start_time": "2022-11-01T20:56:44.058Z"
      },
      {
        "duration": 53,
        "start_time": "2022-11-02T07:29:16.793Z"
      }
    ],
    "colab": {
      "provenance": []
    },
    "kernelspec": {
      "display_name": "Python 3 (ipykernel)",
      "language": "python",
      "name": "python3"
    },
    "language_info": {
      "codemirror_mode": {
        "name": "ipython",
        "version": 3
      },
      "file_extension": ".py",
      "mimetype": "text/x-python",
      "name": "python",
      "nbconvert_exporter": "python",
      "pygments_lexer": "ipython3",
      "version": "3.9.5"
    },
    "toc": {
      "base_numbering": 1,
      "nav_menu": {},
      "number_sections": true,
      "sideBar": true,
      "skip_h1_title": true,
      "title_cell": "Table of Contents",
      "title_sidebar": "Contents",
      "toc_cell": false,
      "toc_position": {},
      "toc_section_display": true,
      "toc_window_display": false
    }
  },
  "nbformat": 4,
  "nbformat_minor": 5
}